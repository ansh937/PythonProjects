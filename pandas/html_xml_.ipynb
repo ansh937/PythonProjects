{
 "cells": [
  {
   "cell_type": "code",
   "execution_count": 8,
   "id": "39230e9a-6210-4589-9c70-4d0ec4dacd21",
   "metadata": {},
   "outputs": [],
   "source": [
    "from lxml import objectify\n",
    "import pandas as pd"
   ]
  },
  {
   "cell_type": "code",
   "execution_count": 2,
   "id": "bb5bde28-325d-49cd-a28d-4f66f7a4ec2e",
   "metadata": {},
   "outputs": [],
   "source": [
    "path = \"/Users/macm2/Desktop/pythoon/pandas/Performance_MNR.xml\""
   ]
  },
  {
   "cell_type": "code",
   "execution_count": 3,
   "id": "0b8ce136-e774-4575-b6e5-02288a0ff6ae",
   "metadata": {},
   "outputs": [],
   "source": [
    "with open(path) as f:\n",
    "    parsed = objectify.parse(f)"
   ]
  },
  {
   "cell_type": "code",
   "execution_count": 4,
   "id": "d6495c55-169f-4448-b1bd-bf0a936697f1",
   "metadata": {},
   "outputs": [],
   "source": [
    " root = parsed.getroot()"
   ]
  },
  {
   "cell_type": "code",
   "execution_count": 12,
   "id": "81032a63-9ad0-4136-8e15-a184716eddf2",
   "metadata": {},
   "outputs": [
    {
     "ename": "AttributeError",
     "evalue": "no such child: INDICATOR",
     "output_type": "error",
     "traceback": [
      "\u001b[0;31m---------------------------------------------------------------------------\u001b[0m",
      "\u001b[0;31mAttributeError\u001b[0m                            Traceback (most recent call last)",
      "Cell \u001b[0;32mIn[12], line 6\u001b[0m\n\u001b[1;32m      1\u001b[0m data \u001b[38;5;241m=\u001b[39m []\n\u001b[1;32m      3\u001b[0m skip_fields \u001b[38;5;241m=\u001b[39m [\u001b[38;5;124m\"\u001b[39m\u001b[38;5;124mPARENT_SEQ\u001b[39m\u001b[38;5;124m\"\u001b[39m, \u001b[38;5;124m\"\u001b[39m\u001b[38;5;124mINDICATOR_SEQ\u001b[39m\u001b[38;5;124m\"\u001b[39m,\n\u001b[1;32m      4\u001b[0m                \u001b[38;5;124m\"\u001b[39m\u001b[38;5;124mDESIRED_CHANGE\u001b[39m\u001b[38;5;124m\"\u001b[39m, \u001b[38;5;124m\"\u001b[39m\u001b[38;5;124mDECIMAL_PLACES\u001b[39m\u001b[38;5;124m\"\u001b[39m]\n\u001b[0;32m----> 6\u001b[0m \u001b[38;5;28;01mfor\u001b[39;00m elt \u001b[38;5;129;01min\u001b[39;00m \u001b[43mroot\u001b[49m\u001b[38;5;241;43m.\u001b[39;49m\u001b[43mINDICATOR\u001b[49m:\n\u001b[1;32m      7\u001b[0m     el_data \u001b[38;5;241m=\u001b[39m {}\n\u001b[1;32m      8\u001b[0m     \u001b[38;5;28;01mfor\u001b[39;00m child \u001b[38;5;129;01min\u001b[39;00m elt\u001b[38;5;241m.\u001b[39mgetchildren():\n",
      "File \u001b[0;32msrc/lxml/objectify.pyx:221\u001b[0m, in \u001b[0;36mlxml.objectify.ObjectifiedElement.__getattr__\u001b[0;34m()\u001b[0m\n",
      "File \u001b[0;32msrc/lxml/objectify.pyx:440\u001b[0m, in \u001b[0;36mlxml.objectify._lookupChildOrRaise\u001b[0;34m()\u001b[0m\n",
      "\u001b[0;31mAttributeError\u001b[0m: no such child: INDICATOR"
     ]
    }
   ],
   "source": [
    "data = []\n",
    "\n",
    "skip_fields = [\"PARENT_SEQ\", \"INDICATOR_SEQ\",\n",
    "               \"DESIRED_CHANGE\", \"DECIMAL_PLACES\"]\n",
    "\n",
    "for elt in root.INDICATOR:\n",
    "    el_data = {}\n",
    "    for child in elt.getchildren():\n",
    "        if child.tag in skip_fields:\n",
    "            continue\n",
    "        el_data[child.tag] = child.pyval\n",
    "    data.append(el_data)"
   ]
  },
  {
   "cell_type": "code",
   "execution_count": 11,
   "id": "21cc7b85-d714-4bca-8d2b-38eb13d69437",
   "metadata": {},
   "outputs": [],
   "source": [
    "perf = pd.DataFrame(data)"
   ]
  },
  {
   "cell_type": "markdown",
   "id": "895b4a23-78ff-4b5c-814b-cc2f966802c0",
   "metadata": {},
   "source": [
    "*Using HDF5 Format\n",
    "HDF5 is a respected file format intended for storing large quantities of scientific array data. It is available as a C library, and it has interfaces available in many other languages, including Java, Julia, MATLAB, and Python. The “HDF” in HDF5 stands for hierarchical data format. Each HDF5 file can store multiple datasets and supporting metadata. Compared with simpler formats, HDF5 supports on-the-fly compression with a variety of compression modes, enabling data with repeated patterns to be stored more efficiently. HDF5 can be a good choice for working with datasets that don't fit into memory, as you can efficiently read and write small sections of much larger arrays.\n",
    "\n",
    "To get started with HDF5 and pandas, you must first install PyTables by installing the tables package with conda:*"
   ]
  },
  {
   "cell_type": "markdown",
   "id": "c10a0479-5145-42b0-a6b3-26295b17d7be",
   "metadata": {},
   "source": [
    "Many websites have public APIs providing data feeds via JSON or some other format. There are a number of ways to access these APIs from Python; one method that I recommend is the requests package, which can be installed with pip or conda:\n",
    "\n",
    "conda install requests\n",
    "To find the last 30 GitHub issues for pandas on GitHub, we can make a GET HTTP request using the add-on requests library:\n",
    ".\n",
    ".\n",
    ".\n",
    "It's a good practice to always call raise_for_status after using requests.get to check for HTTP errors.\n",
    "\n",
    "The response object’s json method will return a Python object containing the parsed JSON data as a dictionary or list (depending on what JSON is returned):\n",
    "\n",
    "ince the results retrieved are based on real-time data, what you see when you run this code will almost definitely be different.\n",
    "\n",
    "Each element in data is a dictionary containing all of the data found on a GitHub issue page (except for the comments). We can pass data directly to pandas.DataFrame and extract fields of interest:\n",
    "\n"
   ]
  },
  {
   "cell_type": "code",
   "execution_count": 13,
   "id": "4bdc8c92-4ee7-4b15-b778-cf30959b8c2f",
   "metadata": {},
   "outputs": [],
   "source": [
    "import requests"
   ]
  },
  {
   "cell_type": "code",
   "execution_count": 14,
   "id": "63109e77-0d80-4ee9-b1de-470b9c2f473e",
   "metadata": {},
   "outputs": [],
   "source": [
    " url = \"https://api.github.com/repos/pandas-dev/pandas/issues\""
   ]
  },
  {
   "cell_type": "code",
   "execution_count": 15,
   "id": "bb7bd132-cc07-445e-9a2a-7282d69c9569",
   "metadata": {},
   "outputs": [],
   "source": [
    "resp = requests.get(url)"
   ]
  },
  {
   "cell_type": "code",
   "execution_count": 16,
   "id": "e2156889-79bf-45fd-be12-3dcd374024d9",
   "metadata": {},
   "outputs": [],
   "source": [
    "resp.raise_for_status()"
   ]
  },
  {
   "cell_type": "code",
   "execution_count": 17,
   "id": "97806098-c53f-4f68-b967-09a80d3f4bb4",
   "metadata": {},
   "outputs": [
    {
     "data": {
      "text/plain": [
       "<Response [200]>"
      ]
     },
     "execution_count": 17,
     "metadata": {},
     "output_type": "execute_result"
    }
   ],
   "source": [
    "resp"
   ]
  },
  {
   "cell_type": "code",
   "execution_count": 18,
   "id": "b01f1670-0738-4b10-a890-94a60c10537d",
   "metadata": {},
   "outputs": [],
   "source": [
    " data = resp.json()"
   ]
  },
  {
   "cell_type": "code",
   "execution_count": 19,
   "id": "3a144aec-6cc1-48e9-81e1-302f9fb674ed",
   "metadata": {},
   "outputs": [
    {
     "data": {
      "text/plain": [
       "'BUG: `query` on columns with characters like # in its name'"
      ]
     },
     "execution_count": 19,
     "metadata": {},
     "output_type": "execute_result"
    }
   ],
   "source": [
    "data[0][\"title\"]"
   ]
  },
  {
   "cell_type": "code",
   "execution_count": 20,
   "id": "8b4b559e-f55f-481d-8ba3-cd449a9256fe",
   "metadata": {},
   "outputs": [],
   "source": [
    "issues = pd.DataFrame(data, columns=[\"number\", \"title\",\"labels\", \"state\"])"
   ]
  },
  {
   "cell_type": "code",
   "execution_count": 21,
   "id": "38a270a9-1bf7-46ce-b19e-e52641829491",
   "metadata": {},
   "outputs": [
    {
     "data": {
      "text/html": [
       "<div>\n",
       "<style scoped>\n",
       "    .dataframe tbody tr th:only-of-type {\n",
       "        vertical-align: middle;\n",
       "    }\n",
       "\n",
       "    .dataframe tbody tr th {\n",
       "        vertical-align: top;\n",
       "    }\n",
       "\n",
       "    .dataframe thead th {\n",
       "        text-align: right;\n",
       "    }\n",
       "</style>\n",
       "<table border=\"1\" class=\"dataframe\">\n",
       "  <thead>\n",
       "    <tr style=\"text-align: right;\">\n",
       "      <th></th>\n",
       "      <th>number</th>\n",
       "      <th>title</th>\n",
       "      <th>labels</th>\n",
       "      <th>state</th>\n",
       "    </tr>\n",
       "  </thead>\n",
       "  <tbody>\n",
       "    <tr>\n",
       "      <th>0</th>\n",
       "      <td>59296</td>\n",
       "      <td>BUG: `query` on columns with characters like #...</td>\n",
       "      <td>[]</td>\n",
       "      <td>open</td>\n",
       "    </tr>\n",
       "    <tr>\n",
       "      <th>1</th>\n",
       "      <td>59295</td>\n",
       "      <td>allow set_index to set a multiindex from a tup...</td>\n",
       "      <td>[]</td>\n",
       "      <td>open</td>\n",
       "    </tr>\n",
       "    <tr>\n",
       "      <th>2</th>\n",
       "      <td>59294</td>\n",
       "      <td>Surprising behavior: set_index cannot set a Mu...</td>\n",
       "      <td>[{'id': 2822098, 'node_id': 'MDU6TGFiZWwyODIyM...</td>\n",
       "      <td>open</td>\n",
       "    </tr>\n",
       "    <tr>\n",
       "      <th>3</th>\n",
       "      <td>59293</td>\n",
       "      <td>BUG: Couldn't run sql:  'Connection' object ha...</td>\n",
       "      <td>[{'id': 76811, 'node_id': 'MDU6TGFiZWw3NjgxMQ=...</td>\n",
       "      <td>open</td>\n",
       "    </tr>\n",
       "    <tr>\n",
       "      <th>4</th>\n",
       "      <td>59292</td>\n",
       "      <td>Add fixture docstring for series indexing</td>\n",
       "      <td>[]</td>\n",
       "      <td>open</td>\n",
       "    </tr>\n",
       "    <tr>\n",
       "      <th>5</th>\n",
       "      <td>59291</td>\n",
       "      <td>DOC: Fix sentence fragment in string methods</td>\n",
       "      <td>[]</td>\n",
       "      <td>open</td>\n",
       "    </tr>\n",
       "    <tr>\n",
       "      <th>6</th>\n",
       "      <td>59290</td>\n",
       "      <td>DOCS: Add docstrings to fixture in /indexing/i...</td>\n",
       "      <td>[]</td>\n",
       "      <td>open</td>\n",
       "    </tr>\n",
       "    <tr>\n",
       "      <th>7</th>\n",
       "      <td>59289</td>\n",
       "      <td>DOCS: Add docstrings to fixture in /indexes/ca...</td>\n",
       "      <td>[]</td>\n",
       "      <td>open</td>\n",
       "    </tr>\n",
       "    <tr>\n",
       "      <th>8</th>\n",
       "      <td>59288</td>\n",
       "      <td>DOCS: Add docstrings to fixtures in /indexes/i...</td>\n",
       "      <td>[]</td>\n",
       "      <td>open</td>\n",
       "    </tr>\n",
       "    <tr>\n",
       "      <th>9</th>\n",
       "      <td>59287</td>\n",
       "      <td>DOCS: Add docstrings to fixtures in /io/json/t...</td>\n",
       "      <td>[]</td>\n",
       "      <td>open</td>\n",
       "    </tr>\n",
       "    <tr>\n",
       "      <th>10</th>\n",
       "      <td>59286</td>\n",
       "      <td>[BUG] Hash and compare tuple subclasses as bui...</td>\n",
       "      <td>[]</td>\n",
       "      <td>open</td>\n",
       "    </tr>\n",
       "    <tr>\n",
       "      <th>11</th>\n",
       "      <td>59285</td>\n",
       "      <td>BUG: Error on query function when the column n...</td>\n",
       "      <td>[{'id': 76811, 'node_id': 'MDU6TGFiZWw3NjgxMQ=...</td>\n",
       "      <td>open</td>\n",
       "    </tr>\n",
       "    <tr>\n",
       "      <th>12</th>\n",
       "      <td>59284</td>\n",
       "      <td>Fix https://github.com/pandas-dev/pandas/issue...</td>\n",
       "      <td>[]</td>\n",
       "      <td>open</td>\n",
       "    </tr>\n",
       "    <tr>\n",
       "      <th>13</th>\n",
       "      <td>59283</td>\n",
       "      <td>CLN: Remove Index.sort</td>\n",
       "      <td>[{'id': 211029535, 'node_id': 'MDU6TGFiZWwyMTE...</td>\n",
       "      <td>open</td>\n",
       "    </tr>\n",
       "    <tr>\n",
       "      <th>14</th>\n",
       "      <td>59281</td>\n",
       "      <td>DOC: Using np.histogram_bin_edges with pd.cut</td>\n",
       "      <td>[]</td>\n",
       "      <td>open</td>\n",
       "    </tr>\n",
       "    <tr>\n",
       "      <th>15</th>\n",
       "      <td>59279</td>\n",
       "      <td>PERF:</td>\n",
       "      <td>[{'id': 8935311, 'node_id': 'MDU6TGFiZWw4OTM1M...</td>\n",
       "      <td>open</td>\n",
       "    </tr>\n",
       "    <tr>\n",
       "      <th>16</th>\n",
       "      <td>59277</td>\n",
       "      <td>BUG: Error on to_datetime() after running mult...</td>\n",
       "      <td>[{'id': 76811, 'node_id': 'MDU6TGFiZWw3NjgxMQ=...</td>\n",
       "      <td>open</td>\n",
       "    </tr>\n",
       "    <tr>\n",
       "      <th>17</th>\n",
       "      <td>59275</td>\n",
       "      <td>CLN: Remove __nonzero__ in favor of __bool__</td>\n",
       "      <td>[{'id': 211029535, 'node_id': 'MDU6TGFiZWwyMTE...</td>\n",
       "      <td>open</td>\n",
       "    </tr>\n",
       "    <tr>\n",
       "      <th>18</th>\n",
       "      <td>59274</td>\n",
       "      <td>ENH: pd.concat with keys and ignore_index=True...</td>\n",
       "      <td>[{'id': 76812, 'node_id': 'MDU6TGFiZWw3NjgxMg=...</td>\n",
       "      <td>open</td>\n",
       "    </tr>\n",
       "    <tr>\n",
       "      <th>19</th>\n",
       "      <td>59273</td>\n",
       "      <td>BUG: reset_index() looses the frequency of a D...</td>\n",
       "      <td>[{'id': 76811, 'node_id': 'MDU6TGFiZWw3NjgxMQ=...</td>\n",
       "      <td>open</td>\n",
       "    </tr>\n",
       "    <tr>\n",
       "      <th>20</th>\n",
       "      <td>59272</td>\n",
       "      <td>BUG:  CoW does not seem to work on an index wi...</td>\n",
       "      <td>[{'id': 76811, 'node_id': 'MDU6TGFiZWw3NjgxMQ=...</td>\n",
       "      <td>open</td>\n",
       "    </tr>\n",
       "    <tr>\n",
       "      <th>21</th>\n",
       "      <td>59267</td>\n",
       "      <td>DOC: New contributor meeting, clarify or remove</td>\n",
       "      <td>[{'id': 134699, 'node_id': 'MDU6TGFiZWwxMzQ2OT...</td>\n",
       "      <td>open</td>\n",
       "    </tr>\n",
       "    <tr>\n",
       "      <th>22</th>\n",
       "      <td>59261</td>\n",
       "      <td>BUG: Series.mul silently returns wrong values ...</td>\n",
       "      <td>[{'id': 76811, 'node_id': 'MDU6TGFiZWw3NjgxMQ=...</td>\n",
       "      <td>open</td>\n",
       "    </tr>\n",
       "    <tr>\n",
       "      <th>23</th>\n",
       "      <td>59256</td>\n",
       "      <td>BUG: Wrong timestamp resolution when parsing t...</td>\n",
       "      <td>[{'id': 76811, 'node_id': 'MDU6TGFiZWw3NjgxMQ=...</td>\n",
       "      <td>open</td>\n",
       "    </tr>\n",
       "    <tr>\n",
       "      <th>24</th>\n",
       "      <td>59252</td>\n",
       "      <td>BUG: rolling window with `center=True, min_per...</td>\n",
       "      <td>[{'id': 76811, 'node_id': 'MDU6TGFiZWw3NjgxMQ=...</td>\n",
       "      <td>open</td>\n",
       "    </tr>\n",
       "    <tr>\n",
       "      <th>25</th>\n",
       "      <td>59249</td>\n",
       "      <td>BUG: Pandas squashes 1-dimensional Numpy array...</td>\n",
       "      <td>[{'id': 76811, 'node_id': 'MDU6TGFiZWw3NjgxMQ=...</td>\n",
       "      <td>open</td>\n",
       "    </tr>\n",
       "    <tr>\n",
       "      <th>26</th>\n",
       "      <td>59242</td>\n",
       "      <td>BUG: read_sql tries to convert blob/varbinary ...</td>\n",
       "      <td>[{'id': 76811, 'node_id': 'MDU6TGFiZWw3NjgxMQ=...</td>\n",
       "      <td>open</td>\n",
       "    </tr>\n",
       "    <tr>\n",
       "      <th>27</th>\n",
       "      <td>59239</td>\n",
       "      <td>ENH: DataFrame.plot.scatter argument `c` now a...</td>\n",
       "      <td>[]</td>\n",
       "      <td>open</td>\n",
       "    </tr>\n",
       "    <tr>\n",
       "      <th>28</th>\n",
       "      <td>59238</td>\n",
       "      <td>Add column_offset to explode</td>\n",
       "      <td>[]</td>\n",
       "      <td>open</td>\n",
       "    </tr>\n",
       "    <tr>\n",
       "      <th>29</th>\n",
       "      <td>59237</td>\n",
       "      <td>ENH: Reduce type requirements for the subset p...</td>\n",
       "      <td>[{'id': 76812, 'node_id': 'MDU6TGFiZWw3NjgxMg=...</td>\n",
       "      <td>open</td>\n",
       "    </tr>\n",
       "  </tbody>\n",
       "</table>\n",
       "</div>"
      ],
      "text/plain": [
       "    number                                              title  \\\n",
       "0    59296  BUG: `query` on columns with characters like #...   \n",
       "1    59295  allow set_index to set a multiindex from a tup...   \n",
       "2    59294  Surprising behavior: set_index cannot set a Mu...   \n",
       "3    59293  BUG: Couldn't run sql:  'Connection' object ha...   \n",
       "4    59292          Add fixture docstring for series indexing   \n",
       "5    59291       DOC: Fix sentence fragment in string methods   \n",
       "6    59290  DOCS: Add docstrings to fixture in /indexing/i...   \n",
       "7    59289  DOCS: Add docstrings to fixture in /indexes/ca...   \n",
       "8    59288  DOCS: Add docstrings to fixtures in /indexes/i...   \n",
       "9    59287  DOCS: Add docstrings to fixtures in /io/json/t...   \n",
       "10   59286  [BUG] Hash and compare tuple subclasses as bui...   \n",
       "11   59285  BUG: Error on query function when the column n...   \n",
       "12   59284  Fix https://github.com/pandas-dev/pandas/issue...   \n",
       "13   59283                             CLN: Remove Index.sort   \n",
       "14   59281      DOC: Using np.histogram_bin_edges with pd.cut   \n",
       "15   59279                                             PERF:    \n",
       "16   59277  BUG: Error on to_datetime() after running mult...   \n",
       "17   59275       CLN: Remove __nonzero__ in favor of __bool__   \n",
       "18   59274  ENH: pd.concat with keys and ignore_index=True...   \n",
       "19   59273  BUG: reset_index() looses the frequency of a D...   \n",
       "20   59272  BUG:  CoW does not seem to work on an index wi...   \n",
       "21   59267    DOC: New contributor meeting, clarify or remove   \n",
       "22   59261  BUG: Series.mul silently returns wrong values ...   \n",
       "23   59256  BUG: Wrong timestamp resolution when parsing t...   \n",
       "24   59252  BUG: rolling window with `center=True, min_per...   \n",
       "25   59249  BUG: Pandas squashes 1-dimensional Numpy array...   \n",
       "26   59242  BUG: read_sql tries to convert blob/varbinary ...   \n",
       "27   59239  ENH: DataFrame.plot.scatter argument `c` now a...   \n",
       "28   59238                       Add column_offset to explode   \n",
       "29   59237  ENH: Reduce type requirements for the subset p...   \n",
       "\n",
       "                                               labels state  \n",
       "0                                                  []  open  \n",
       "1                                                  []  open  \n",
       "2   [{'id': 2822098, 'node_id': 'MDU6TGFiZWwyODIyM...  open  \n",
       "3   [{'id': 76811, 'node_id': 'MDU6TGFiZWw3NjgxMQ=...  open  \n",
       "4                                                  []  open  \n",
       "5                                                  []  open  \n",
       "6                                                  []  open  \n",
       "7                                                  []  open  \n",
       "8                                                  []  open  \n",
       "9                                                  []  open  \n",
       "10                                                 []  open  \n",
       "11  [{'id': 76811, 'node_id': 'MDU6TGFiZWw3NjgxMQ=...  open  \n",
       "12                                                 []  open  \n",
       "13  [{'id': 211029535, 'node_id': 'MDU6TGFiZWwyMTE...  open  \n",
       "14                                                 []  open  \n",
       "15  [{'id': 8935311, 'node_id': 'MDU6TGFiZWw4OTM1M...  open  \n",
       "16  [{'id': 76811, 'node_id': 'MDU6TGFiZWw3NjgxMQ=...  open  \n",
       "17  [{'id': 211029535, 'node_id': 'MDU6TGFiZWwyMTE...  open  \n",
       "18  [{'id': 76812, 'node_id': 'MDU6TGFiZWw3NjgxMg=...  open  \n",
       "19  [{'id': 76811, 'node_id': 'MDU6TGFiZWw3NjgxMQ=...  open  \n",
       "20  [{'id': 76811, 'node_id': 'MDU6TGFiZWw3NjgxMQ=...  open  \n",
       "21  [{'id': 134699, 'node_id': 'MDU6TGFiZWwxMzQ2OT...  open  \n",
       "22  [{'id': 76811, 'node_id': 'MDU6TGFiZWw3NjgxMQ=...  open  \n",
       "23  [{'id': 76811, 'node_id': 'MDU6TGFiZWw3NjgxMQ=...  open  \n",
       "24  [{'id': 76811, 'node_id': 'MDU6TGFiZWw3NjgxMQ=...  open  \n",
       "25  [{'id': 76811, 'node_id': 'MDU6TGFiZWw3NjgxMQ=...  open  \n",
       "26  [{'id': 76811, 'node_id': 'MDU6TGFiZWw3NjgxMQ=...  open  \n",
       "27                                                 []  open  \n",
       "28                                                 []  open  \n",
       "29  [{'id': 76812, 'node_id': 'MDU6TGFiZWw3NjgxMg=...  open  "
      ]
     },
     "execution_count": 21,
     "metadata": {},
     "output_type": "execute_result"
    }
   ],
   "source": [
    " issues"
   ]
  },
  {
   "cell_type": "code",
   "execution_count": null,
   "id": "9b5f7803-ffc0-4524-b7fc-810c8ddc4e5c",
   "metadata": {},
   "outputs": [],
   "source": []
  }
 ],
 "metadata": {
  "kernelspec": {
   "display_name": "Python 3 (ipykernel)",
   "language": "python",
   "name": "python3"
  },
  "language_info": {
   "codemirror_mode": {
    "name": "ipython",
    "version": 3
   },
   "file_extension": ".py",
   "mimetype": "text/x-python",
   "name": "python",
   "nbconvert_exporter": "python",
   "pygments_lexer": "ipython3",
   "version": "3.12.2"
  }
 },
 "nbformat": 4,
 "nbformat_minor": 5
}
